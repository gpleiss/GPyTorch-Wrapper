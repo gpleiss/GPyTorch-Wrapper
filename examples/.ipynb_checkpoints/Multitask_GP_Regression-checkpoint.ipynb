{
 "cells": [
  {
   "cell_type": "markdown",
   "metadata": {},
   "source": [
    "# Training a model\n",
    "\n",
    "Below is the example for a Gaussian Process regression using GpyTorch :class:`.ExactGaussianProcessRegressor`\n",
    "\n",
    "This notebook demonstrates how to perform multitask regression with kernels.IndexKernel. Multitask regression, first introduced in [this paper](https://papers.nips.cc/paper/3189-multi-task-gaussian-process-prediction.pdf) learns similarities in the outputs simultaneously. It's useful when you are performing regression on multiple functions that share the same inputs, especially if they have similarities (such as being sinusodial)."
   ]
  },
  {
   "cell_type": "code",
   "execution_count": 1,
   "metadata": {},
   "outputs": [],
   "source": [
    "# import gpytorch and gpwrapper in a directory above\n",
    "import sys\n",
    "sys.path.append(\"..\")\n",
    "\n",
    "import math\n",
    "import torch\n",
    "import gpytorch\n",
    "from matplotlib import pyplot as plt\n",
    "\n",
    "%matplotlib inline\n",
    "%load_ext autoreload\n",
    "%autoreload 2"
   ]
  },
  {
   "cell_type": "code",
   "execution_count": 2,
   "metadata": {},
   "outputs": [],
   "source": [
    "from torch.autograd import Variable\n",
    "# Training points are every 0.1 in [0,1] (note that they're the same for both tasks)\n",
    "train_x = Variable(torch.linspace(0, 1, 11))\n",
    "# y1s are indexed 0, y2s are indexed 1\n",
    "y1_inds = Variable(torch.zeros(11).long())\n",
    "y2_inds = Variable(torch.ones(11).long())\n",
    "# y1 function is sin(2*pi*x) with noise N(0, 0.04)\n",
    "train_y1 = Variable(torch.sin(train_x.data * (2 * math.pi)) + torch.randn(train_x.size()) * 0.2)\n",
    "# y2 function is cos(2*pi*x) with noise N(0, 0.04)\n",
    "train_y2 = Variable(torch.cos(train_x.data * (2 * math.pi)) + torch.randn(train_x.size()) * 0.2)"
   ]
  },
  {
   "cell_type": "code",
   "execution_count": 3,
   "metadata": {},
   "outputs": [],
   "source": [
    "from torch import optim\n",
    "from gpytorch.kernels import RBFKernel, IndexKernel\n",
    "from gpytorch.means import ConstantMean\n",
    "from gpytorch.likelihoods import GaussianLikelihood\n",
    "from gpytorch.random_variables import GaussianRandomVariable\n",
    "from gpwrapper import ExactGaussianProcessRegressor"
   ]
  },
  {
   "cell_type": "code",
   "execution_count": 4,
   "metadata": {},
   "outputs": [],
   "source": [
    "class MultitaskGPModel(gpytorch.models.ExactGP):\n",
    "    def __init__(self, train_x, train_y, likelihood):\n",
    "        super(MultitaskGPModel, self).__init__(train_x, train_y, likelihood)\n",
    "        # Default bounds on mean are (-1e10, 1e10)\n",
    "        self.mean_module = ConstantMean()\n",
    "        # We use the very common RBF kernel\n",
    "        self.covar_module = RBFKernel(log_lengthscale_bounds=(-3, 3))\n",
    "        # We learn an IndexKernel for 2 tasks\n",
    "        # (so we'll actually learn 2x2=4 tasks with correlations)\n",
    "        self.task_covar_module = IndexKernel(n_tasks=2, rank=1)\n",
    "\n",
    "    def forward(self,x,i):\n",
    "        # Get predictive mean\n",
    "        mean_x = self.mean_module(x)\n",
    "        # Get all covariances, we'll look up the task-speicific ones\n",
    "        covar_x = self.covar_module(x)\n",
    "        # # Get the covariance for task i\n",
    "        covar_i = self.task_covar_module(i)\n",
    "        covar_xi = covar_x.mul(covar_i)\n",
    "        return GaussianRandomVariable(mean_x, covar_xi)"
   ]
  },
  {
   "cell_type": "code",
   "execution_count": 5,
   "metadata": {},
   "outputs": [
    {
     "name": "stdout",
     "output_type": "stream",
     "text": [
      "  epoch    train_loss     dur\n",
      "-------  ------------  ------\n",
      "      1        \u001b[36m1.3308\u001b[0m  0.0881\n",
      "      2        \u001b[36m1.3028\u001b[0m  0.0224\n",
      "      3        \u001b[36m1.2839\u001b[0m  0.0232\n",
      "      4        \u001b[36m1.2616\u001b[0m  0.0156\n",
      "      5        \u001b[36m1.2448\u001b[0m  0.0219\n",
      "      6        \u001b[36m1.2294\u001b[0m  0.0203\n",
      "      7        \u001b[36m1.2086\u001b[0m  0.0196\n",
      "      8        \u001b[36m1.1939\u001b[0m  0.0164\n",
      "      9        \u001b[36m1.1672\u001b[0m  0.0229\n",
      "     10        \u001b[36m1.1443\u001b[0m  0.0212\n",
      "     11        \u001b[36m1.1235\u001b[0m  0.0165\n",
      "     12        \u001b[36m1.1044\u001b[0m  0.0192\n",
      "     13        1.1065  0.0180\n",
      "     14        \u001b[36m1.0767\u001b[0m  0.0198\n",
      "     15        1.0852  0.0213\n",
      "     16        \u001b[36m1.0441\u001b[0m  0.0195\n",
      "     17        1.0783  0.0362\n",
      "     18        \u001b[36m1.0037\u001b[0m  0.0223\n",
      "     19        \u001b[36m0.9304\u001b[0m  0.0254\n",
      "     20        \u001b[36m0.9292\u001b[0m  0.0246\n",
      "     21        \u001b[36m0.9141\u001b[0m  0.0224\n",
      "     22        \u001b[36m0.7988\u001b[0m  0.0254\n",
      "     23        0.8563  0.0220\n",
      "     24        \u001b[36m0.7651\u001b[0m  0.0278\n",
      "     25        \u001b[36m0.6816\u001b[0m  0.0286\n",
      "     26        0.7206  0.0204\n",
      "     27        \u001b[36m0.6579\u001b[0m  0.0235\n",
      "     28        0.6709  0.0196\n",
      "     29        \u001b[36m0.6216\u001b[0m  0.0226\n",
      "     30        \u001b[36m0.5970\u001b[0m  0.0235\n",
      "     31        \u001b[36m0.5960\u001b[0m  0.0271\n",
      "     32        0.6398  0.0216\n",
      "     33        \u001b[36m0.5873\u001b[0m  0.0257\n",
      "     34        0.6035  0.0209\n",
      "     35        \u001b[36m0.5686\u001b[0m  0.0242\n",
      "     36        \u001b[36m0.5239\u001b[0m  0.0317\n",
      "     37        0.5782  0.0305\n",
      "     38        0.5324  0.0237\n",
      "     39        0.5630  0.0266\n",
      "     40        0.6051  0.0298\n",
      "     41        \u001b[36m0.5047\u001b[0m  0.0267\n",
      "     42        \u001b[36m0.4805\u001b[0m  0.0253\n",
      "     43        0.4810  0.0276\n",
      "     44        0.6787  0.0206\n",
      "     45        0.5610  0.0209\n",
      "     46        0.7884  0.0227\n",
      "     47        \u001b[36m0.4707\u001b[0m  0.0197\n",
      "     48        0.5148  0.0196\n",
      "     49        0.6846  0.0231\n",
      "     50        0.6706  0.0208\n"
     ]
    }
   ],
   "source": [
    "likelihood = GaussianLikelihood(log_noise_bounds=(-6, 6))\n",
    "# Step 2: Wrap the model into our GP Wrapper\n",
    "GP = ExactGaussianProcessRegressor(\n",
    "    module = MultitaskGPModel,\n",
    "    likelihood = likelihood,\n",
    "    train_split = None,\n",
    ")\n",
    "\n",
    "train_x_cat = (torch.cat([train_x, train_x]),\n",
    "           torch.cat([y1_inds, y2_inds]))\n",
    "\n",
    "train_y_cat = torch.cat([train_y1.data, train_y2.data])\n",
    "# Step 3: Find optimal model hyperparameters\n",
    "GP.fit(X=train_x_cat, y=train_y_cat)\n",
    "\n",
    "# Step 4: Prediction\n",
    "# Test points every 0.02 in [0,1]\n",
    "test_x = Variable(torch.linspace(0, 1, 51))\n",
    "# Make y index vectors of the same length as test data\n",
    "y1_inds_test = Variable(torch.zeros(51).long())\n",
    "y2_inds_test = Variable(torch.ones(51).long())\n",
    "\n",
    "# Make predictions\n",
    "observed_pred_y1 = GP.predict_proba((test_x, y1_inds_test))\n",
    "observed_pred_y2 = GP.predict_proba((test_x, y2_inds_test))"
   ]
  },
  {
   "cell_type": "code",
   "execution_count": 6,
   "metadata": {},
   "outputs": [
    {
     "data": {
      "image/png": "[encoded data removed]",
      "text/plain": [
       "<Figure size 576x216 with 2 Axes>"
      ]
     },
     "metadata": {},
     "output_type": "display_data"
    }
   ],
   "source": [
    "# Define plotting function\n",
    "def ax_plot(ax, train_y, rand_var, title):\n",
    "    # Get lower and upper confidence bounds\n",
    "    lower, upper = rand_var.confidence_region()\n",
    "    # Plot training data as black stars\n",
    "    ax.plot(train_x.data.numpy(), train_y.data.numpy(), 'k*')\n",
    "    # Predictive mean as blue line\n",
    "    ax.plot(test_x.data.numpy(), rand_var.mean().data.numpy(), 'b')\n",
    "    # Shade in confidence\n",
    "    ax.fill_between(test_x.data.numpy(), lower.data.numpy(), upper.data.numpy(), alpha=0.5)\n",
    "    ax.set_ylim([-3, 3])\n",
    "    ax.legend(['Observed Data', 'Mean', 'Confidence'])\n",
    "    ax.set_title(title)\n",
    "\n",
    "# Initialize plots\n",
    "f, (y1_ax, y2_ax) = plt.subplots(1, 2, figsize=(8, 3))\n",
    "\n",
    "# Plot both tasks\n",
    "ax_plot(y1_ax, train_y1, observed_pred_y1, 'Observed Values (Likelihood)')\n",
    "ax_plot(y2_ax, train_y2, observed_pred_y2, 'Observed Values (Likelihood)')"
   ]
  },
  {
   "cell_type": "markdown",
   "metadata": {},
   "source": [
    "# TODO: Using sklearn pipeline and Grid search\n",
    "Using a sklearn StandardScaler as pre-processing step via sklearn pipeline is hard in this case, because StandardScaler needs an array X as input, but our input to the GP Model is a tuple of X and index array.\n",
    "\n",
    "Doing grid search is hard for the same reason."
   ]
  }
 ],
 "metadata": {
  "kernelspec": {
   "display_name": "Python 3",
   "language": "python",
   "name": "python3"
  },
  "language_info": {
   "codemirror_mode": {
    "name": "ipython",
    "version": 3
   },
   "file_extension": ".py",
   "mimetype": "text/x-python",
   "name": "python",
   "nbconvert_exporter": "python",
   "pygments_lexer": "ipython3",
   "version": "3.6.5"
  }
 },
 "nbformat": 4,
 "nbformat_minor": 2
}
