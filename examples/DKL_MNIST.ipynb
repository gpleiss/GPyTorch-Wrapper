{
 "cells": [
  {
   "cell_type": "markdown",
   "metadata": {},
   "source": [
    "# Introduction\n",
    "\n",
    "Below is the example for a Gaussian Process classification example using GpyTorch :class:`.VariationalGaussianProcessClassifier`\n",
    "\n",
    "In this notebook, we demonstrate the potential of combining the deep learning capabilities of PyTorch with Gaussian process models using GPyTorch. In this notebook, we will use deep kernel learning to train a deep neural network with a Gaussian process prediction layer for classification, using the MNIST dataset as a simple example."
   ]
  },
  {
   "cell_type": "code",
   "execution_count": 1,
   "metadata": {
    "collapsed": true
   },
   "outputs": [],
   "source": [
    "# Import our GPyTorch library\n",
    "import gpytorch\n",
    "\n",
    "# Import some classes we will use from torch\n",
    "from torch.autograd import Variable\n",
    "from torch.optim import SGD, Adam\n",
    "from torch.utils.data import DataLoader\n",
    "import skorch"
   ]
  },
  {
   "cell_type": "code",
   "execution_count": 2,
   "metadata": {},
   "outputs": [],
   "source": [
    "# Loading data\n",
    "# Import datasets to access MNISTS and transforms to format data for learning\n",
    "from torchvision import transforms, datasets\n",
    "\n",
    "# Download and load the MNIST dataset to train on\n",
    "# Compose lets us do multiple transformations. Specically make the data a torch.FloatTensor of shape\n",
    "# (colors x height x width) in the range [0.0, 1.0] as opposed to an RGB image with shape (height x width x colors)\n",
    "# then normalize using  mean (0.1317) and standard deviation (0.3081) already calculated (not here)\n",
    "\n",
    "# Transformation documentation here: http://pytorch.org/docs/master/torchvision/transforms.html\n",
    "train_dataset = datasets.MNIST('/tmp', train=True, download=True,\n",
    "                               transform=transforms.Compose([\n",
    "                                   transforms.ToTensor(),\n",
    "                                   transforms.Normalize((0.1307,), (0.3081,))\n",
    "                               ]))\n",
    "test_dataset = datasets.MNIST('/tmp', train=False, download=True,\n",
    "                              transform=transforms.Compose([\n",
    "                                  transforms.ToTensor(),\n",
    "                                  transforms.Normalize((0.1307,), (0.3081,))\n",
    "                              ]))\n",
    "\n",
    "# But the data into a DataLoader. We shuffle the training data but not the test data because the order\n",
    "# training data is presented will affect the outcome unlike the test data\n",
    "train_loader = DataLoader(train_dataset, batch_size=256, shuffle=True, pin_memory=True)\n",
    "test_loader = DataLoader(test_dataset, batch_size=256, shuffle=False, pin_memory=True)"
   ]
  },
  {
   "cell_type": "code",
   "execution_count": 3,
   "metadata": {
    "collapsed": true
   },
   "outputs": [],
   "source": [
    "# Define the feature extractor for our deep kernel\n",
    "# Import torch's neural network\n",
    "# Documentation here: http://pytorch.org/docs/master/nn.html\n",
    "from torch import nn\n",
    "# Import torch.nn.functional for various activation/pooling functions\n",
    "# Documentation here: http://pytorch.org/docs/master/nn.html#torch-nn-functional\n",
    "from torch.nn import functional as F\n",
    "\n",
    "# We make a classic LeNet Architecture sans a final prediction layer to 10 outputs. This will serve as a feature\n",
    "# extractor reducing the dimensionality of our data down to 64. We will pretrain these layers by adding on a \n",
    "# final classifying 64-->10 layer\n",
    "# https://medium.com/@siddharthdas_32104/cnns-architectures-lenet-alexnet-vgg-googlenet-resnet-and-more-666091488df5\n",
    "class LeNetFeatureExtractor(nn.Module):\n",
    "    def __init__(self):\n",
    "        super(LeNetFeatureExtractor, self).__init__()\n",
    "        self.conv1 = nn.Conv2d(1, 16, kernel_size=5, padding=2)\n",
    "        self.norm1 = nn.BatchNorm2d(16)\n",
    "        self.conv2 = nn.Conv2d(16, 32, kernel_size=5, padding=2)\n",
    "        self.norm2 = nn.BatchNorm2d(32)\n",
    "        self.fc3 = nn.Linear(32 * 7 * 7, 64)\n",
    "        self.norm3 = nn.BatchNorm1d(64)\n",
    "\n",
    "    def forward(self, x):\n",
    "        x = F.max_pool2d(F.relu(self.norm1(self.conv1(x))), 2)\n",
    "        x = F.max_pool2d(F.relu(self.norm2(self.conv2(x))), 2)\n",
    "        x = x.view(-1, 32 * 7 * 7)\n",
    "        x = F.relu(self.norm3(self.fc3(x)))\n",
    "        return x\n",
    "\n",
    "feature_extractor = LeNetFeatureExtractor()\n",
    "\n",
    "# TO DO 1: pre-training in skorch"
   ]
  },
  {
   "cell_type": "code",
   "execution_count": 4,
   "metadata": {
    "collapsed": true
   },
   "outputs": [],
   "source": [
    "# Define the deep kernel GP\n",
    "# now this is our first exposure to the usefulness of gpytorch\n",
    "\n",
    "# A gpytorch module is superclass of torch.nn.Module\n",
    "class DKLModel(gpytorch.Module):\n",
    "    def __init__(self, feature_extractor, n_features=64, grid_bounds=(-10., 10.)):\n",
    "        super(DKLModel, self).__init__()\n",
    "        # We add the feature-extracting network to the class\n",
    "        self.feature_extractor = feature_extractor\n",
    "        # The latent function is what transforms the features into the output\n",
    "        self.latent_functions = LatentFunctions(n_features=n_features, grid_bounds=grid_bounds)\n",
    "        # The grid bounds are the range we expect the features to fall into\n",
    "        self.grid_bounds = grid_bounds\n",
    "        # n_features in the dimension of the vector extracted (64)\n",
    "        self.n_features = n_features\n",
    "    \n",
    "    def forward(self, x):\n",
    "        # For the forward method of the Module, first feed the xdata through the\n",
    "        # feature extraction network\n",
    "        features = self.feature_extractor(x)\n",
    "        # Scale to fit inside grid bounds\n",
    "        features = gpytorch.utils.scale_to_bounds(features, self.grid_bounds[0], self.grid_bounds[1])\n",
    "        # The result is hte output of the latent functions\n",
    "        res = self.latent_functions(features.unsqueeze(-1))\n",
    "        return res\n",
    "\n",
    "# The AdditiveGridInducingVariationalGP trains multiple GPs on the features\n",
    "# These are mixed together by the likelihoo function to generate the final\n",
    "# classification output\n",
    "\n",
    "# Grid bounds specify the allowed values of features\n",
    "# grid_size is the number of subdivisions along each dimension\n",
    "class LatentFunctions(gpytorch.models.AdditiveGridInducingVariationalGP):\n",
    "    # n_features is the number of features from feature extractor\n",
    "    # mixing params = False means the result of the GPs will simply be summed instead of mixed\n",
    "    def __init__(self, n_features=64, grid_bounds=(-10., 10.), grid_size=128):\n",
    "        super(LatentFunctions, self).__init__(grid_size=grid_size, grid_bounds=[grid_bounds],\n",
    "                                              n_components=n_features, mixing_params=False, sum_output=False)\n",
    "        #  We will use the very common universal approximator RBF Kernel\n",
    "        cov_module = gpytorch.kernels.RBFKernel()\n",
    "        # Initialize the lengthscale of the kernel\n",
    "        cov_module.initialize(log_lengthscale=0)\n",
    "        self.cov_module = cov_module\n",
    "        self.grid_bounds = grid_bounds\n",
    "        \n",
    "    def forward(self, x):\n",
    "        # Zero mean\n",
    "        mean = Variable(x.data.new(len(x)).zero_())\n",
    "        # Covariance using RBF kernel as described in __init__\n",
    "        covar = self.cov_module(x)\n",
    "        # Return as Gaussian\n",
    "        return gpytorch.random_variables.GaussianRandomVariable(mean, covar)\n",
    "\n",
    "model = DKLModel(feature_extractor)\n",
    "likelihood = gpytorch.likelihoods.SoftmaxLikelihood(n_features=model.n_features, n_classes=10)"
   ]
  },
  {
   "cell_type": "code",
   "execution_count": 6,
   "metadata": {},
   "outputs": [
    {
     "name": "stdout",
     "output_type": "stream",
     "text": [
      "Train Epoch: 1 [001/235], Loss: 11.952486\n",
      "Train Epoch: 1 [002/235], Loss: 11.368807\n",
      "Train Epoch: 1 [003/235], Loss: 10.778825\n",
      "Train Epoch: 1 [004/235], Loss: 10.203677\n",
      "Train Epoch: 1 [005/235], Loss: 9.692531\n",
      "Train Epoch: 1 [006/235], Loss: 8.977584\n",
      "Train Epoch: 1 [007/235], Loss: 8.304232\n",
      "Train Epoch: 1 [008/235], Loss: 7.910048\n",
      "Train Epoch: 1 [009/235], Loss: 7.330254\n",
      "Train Epoch: 1 [010/235], Loss: 6.905552\n"
     ]
    },
    {
     "name": "stderr",
     "output_type": "stream",
     "text": [
      "/Users/lsr/anaconda2/envs/py36/lib/python3.6/site-packages/ipykernel_launcher.py:30: UserWarning: volatile was removed and now has no effect. Use `with torch.no_grad():` instead.\n",
      "/Users/lsr/Desktop/skorch-master/gpytorch/likelihoods/softmax_likelihood.py:53: UserWarning: Implicit dimension choice for softmax has been deprecated. Change the call to include dim=X as an argument.\n",
      "  softmax = nn.functional.softmax(mixed_fs.t()).view(n_data, n_samples, self.n_classes)\n"
     ]
    },
    {
     "name": "stdout",
     "output_type": "stream",
     "text": [
      "Test set: Average loss: 0.0000, Accuracy: 7167/10000 (71.000%)\n"
     ]
    }
   ],
   "source": [
    "# Train the DKL model\n",
    "# We use an adam optimizer over both the model and likelihood parameters\n",
    "# https://arxiv.org/abs/1412.6980\n",
    "from gpwrapper import VariationalGaussianProcess\n",
    "\n",
    "optimizer = Adam([\n",
    "    {'params': model.parameters()},\n",
    "    {'params': likelihood.parameters()},  # SoftmaxLikelihood contains parameters\n",
    "], lr=0.01)\n",
    "\n",
    "# Step 2: Wrap the model into our GP Wrapper\n",
    "GPWrapper = VariationalGaussianProcess(\n",
    "    likelihood=likelihood,\n",
    "    module=model,\n",
    "    optimizer=optimizer,\n",
    "    train_split=None,\n",
    "    max_epochs=10,\n",
    "    batch_size=256\n",
    ")\n",
    "\n",
    "# Step 3: Find optimal model hyperparameters\n",
    "GPWrapper.fit(X=train_dataset, y=None)\n",
    "\n",
    "# Step 4: Prediction\n",
    "# TO DO 2: Get validation set accuracy in gpwrapper\n",
    "# TO DO 3: Find a concise way to wrap the test loop\n",
    "test_loss = 0\n",
    "correct = 0\n",
    "for data, target in test_loader:\n",
    "    data, target = Variable(data, volatile=True), Variable(target)\n",
    "    output = GPWrapper.predict_proba(data)\n",
    "    pred = output.argmax()\n",
    "    correct += pred.eq(target.view_as(pred)).data.cpu().sum()\n",
    "test_loss /= len(test_loader.dataset)\n",
    "print('Test set: Average loss: {:.4f}, Accuracy: {}/{} ({:.3f}%)'.format(\n",
    "        test_loss, correct, len(test_loader.dataset),\n",
    "        100. * correct / len(test_loader.dataset)))"
   ]
  }
 ],
 "metadata": {
  "kernelspec": {
   "display_name": "Python 3",
   "language": "python",
   "name": "python3"
  },
  "language_info": {
   "codemirror_mode": {
    "name": "ipython",
    "version": 3
   },
   "file_extension": ".py",
   "mimetype": "text/x-python",
   "name": "python",
   "nbconvert_exporter": "python",
   "pygments_lexer": "ipython3",
   "version": "3.6.5"
  }
 },
 "nbformat": 4,
 "nbformat_minor": 2
}
